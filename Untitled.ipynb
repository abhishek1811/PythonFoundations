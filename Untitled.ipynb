{
 "cells": [
  {
   "cell_type": "code",
   "execution_count": 6,
   "metadata": {
    "collapsed": false
   },
   "outputs": [],
   "source": [
    "import webbrowser \n",
    "import time\n",
    "\n",
    "def take_break(timestart, timeend):\n",
    "    for t in range(3):\n",
    "        time.sleep(5)\n",
    "        webbrowser.open(\"https://www.youtube.com/watch?v=K8PS_Gvw9kM\")\n",
    "take_break(0,10)   "
   ]
  },
  {
   "cell_type": "code",
   "execution_count": 17,
   "metadata": {
    "collapsed": false
   },
   "outputs": [
    {
     "name": "stdout",
     "output_type": "stream",
     "text": [
      "File Name: .DS_Store is changed\n",
      "File Name: athens.jpg is changed\n",
      "File Name: austin.jpg is changed\n",
      "File Name: bangalore.jpg is changed\n",
      "File Name: barcelona.jpg is changed\n",
      "File Name: beijing.jpg is changed\n",
      "File Name: berkeley.jpg is changed\n",
      "File Name: bogota.jpg is changed\n",
      "File Name: bristol.jpg is changed\n",
      "File Name: bucharest.jpg is changed\n",
      "File Name: buenos aires.jpg is changed\n",
      "File Name: cairo.jpg is changed\n",
      "File Name: chennai.jpg is changed\n",
      "File Name: chicago.jpg is changed\n",
      "File Name: colombo.jpg is changed\n",
      "File Name: dallas.jpg is changed\n",
      "File Name: delhi.jpg is changed\n",
      "File Name: edinbrugh.jpg is changed\n",
      "File Name: gainesville.jpg is changed\n",
      "File Name: houston.jpg is changed\n",
      "File Name: hyderabad.jpg is changed\n",
      "File Name: istanbul.jpg is changed\n",
      "File Name: ithaca.jpg is changed\n",
      "File Name: jacksonville.jpg is changed\n",
      "File Name: karachi.jpg is changed\n",
      "File Name: kiev.jpg is changed\n",
      "File Name: london.jpg is changed\n",
      "File Name: los angeles.jpg is changed\n",
      "File Name: madrid.jpg is changed\n",
      "File Name: manchester.jpg is changed\n",
      "File Name: miami.jpg is changed\n",
      "File Name: new york.jpg is changed\n",
      "File Name: oakland.jpg is changed\n",
      "File Name: pune.jpg is changed\n",
      "File Name: rochester.jpg is changed\n",
      "File Name: san diego.jpg is changed\n",
      "File Name: san jose.jpg is changed\n",
      "File Name: sao paulo.jpg is changed\n",
      "File Name: seattle.jpg is changed\n",
      "File Name: seoul.jpg is changed\n",
      "File Name: shanghai.jpg is changed\n",
      "File Name: singapore.jpg is changed\n",
      "File Name: sunnyvale.jpg is changed\n",
      "File Name: sydney.jpg is changed\n",
      "File Name: tel aviv.jpg is changed\n"
     ]
    }
   ],
   "source": [
    "# Secret Message - Rename the file name in a directory\n",
    "import os\n",
    "import string\n",
    "\n",
    "def rename_files(directory):\n",
    "    # Get files from a folder\n",
    "    files = os.listdir(directory)\n",
    "    current_dir = os.getcwd()\n",
    "    os.chdir(\"/Users/Abhishek/Documents/PythonFoundations/prank\")\n",
    "    for file_name in files:\n",
    "        print(\"File Name: {0} is changed\".format(file_name))\n",
    "        os.rename(file_name, file_name.translate(str.maketrans('', '','0123456789')))\n",
    "    os.chdir(current_dir)\n",
    "\n",
    "rename_files(\"/Users/Abhishek/Documents/PythonFoundations/prank\")"
   ]
  },
  {
   "cell_type": "code",
   "execution_count": null,
   "metadata": {
    "collapsed": true
   },
   "outputs": [],
   "source": []
  }
 ],
 "metadata": {
  "kernelspec": {
   "display_name": "Python 3",
   "language": "python",
   "name": "python3"
  },
  "language_info": {
   "codemirror_mode": {
    "name": "ipython",
    "version": 3
   },
   "file_extension": ".py",
   "mimetype": "text/x-python",
   "name": "python",
   "nbconvert_exporter": "python",
   "pygments_lexer": "ipython3",
   "version": "3.6.0"
  }
 },
 "nbformat": 4,
 "nbformat_minor": 2
}
