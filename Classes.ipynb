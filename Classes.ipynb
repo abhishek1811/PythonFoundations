{
 "cells": [
  {
   "cell_type": "markdown",
   "metadata": {
    "collapsed": true
   },
   "source": [
    "# Introduction to Classes"
   ]
  },
  {
   "cell_type": "markdown",
   "metadata": {},
   "source": [
    "###  1. GUI in Python"
   ]
  },
  {
   "cell_type": "markdown",
   "metadata": {},
   "source": [
    "a. Draw a square, circle on a window"
   ]
  },
  {
   "cell_type": "code",
   "execution_count": 17,
   "metadata": {
    "collapsed": false
   },
   "outputs": [],
   "source": [
    "import turtle\n",
    "def setup():\n",
    "    window = turtle.Screen()\n",
    "    window.bgcolor(\"red\")\n",
    "    t = turtle.Turtle()\n",
    "    t.shape(\"arrow\")\n",
    "    t.color(\"white\")\n",
    "    t.speed(10)\n",
    "    return [window,t]\n",
    "\n",
    "def draw_square(window,turtle):\n",
    "    for i in range(4):\n",
    "        turtle.forward(100)\n",
    "        turtle.right(90)\n",
    "    \n",
    "def draw_circle(window,turtle):\n",
    "    turtle.circle(100)\n",
    "    \n",
    "def draw_shapes():\n",
    "    window,turtle = setup()\n",
    "    #draw_square(window,turtle)\n",
    "    #draw_circle(window,turtle)\n",
    "    draw_design(window,turtle)\n",
    "    window.exitonclick()\n",
    "    \n",
    "def draw_design(window,turtle):\n",
    "    angle = 0\n",
    "    while angle < 36:\n",
    "        draw_square(window,turtle)\n",
    "        angle +=1\n",
    "        turtle.right(angle)\n",
    "draw_shapes()"
   ]
  },
  {
   "cell_type": "markdown",
   "metadata": {
    "collapsed": true
   },
   "source": [
    "### 2. Sending text messages using python."
   ]
  },
  {
   "cell_type": "code",
   "execution_count": 1,
   "metadata": {
    "collapsed": false
   },
   "outputs": [
    {
     "ename": "ModuleNotFoundError",
     "evalue": "No module named 'twilio'",
     "output_type": "error",
     "traceback": [
      "\u001b[0;31m---------------------------------------------------------------------------\u001b[0m",
      "\u001b[0;31mModuleNotFoundError\u001b[0m                       Traceback (most recent call last)",
      "\u001b[0;32m<ipython-input-1-535826fc0c34>\u001b[0m in \u001b[0;36m<module>\u001b[0;34m()\u001b[0m\n\u001b[0;32m----> 1\u001b[0;31m \u001b[0;32mfrom\u001b[0m \u001b[0mtwilio\u001b[0m\u001b[0;34m.\u001b[0m\u001b[0mrest\u001b[0m \u001b[0;32mimport\u001b[0m \u001b[0mTwilioRestClient\u001b[0m\u001b[0;34m\u001b[0m\u001b[0m\n\u001b[0m\u001b[1;32m      2\u001b[0m \u001b[0;34m\u001b[0m\u001b[0m\n",
      "\u001b[0;31mModuleNotFoundError\u001b[0m: No module named 'twilio'"
     ]
    }
   ],
   "source": [
    "from twilio.rest import TwilioRestClient\n",
    "\n"
   ]
  },
  {
   "cell_type": "markdown",
   "metadata": {
    "collapsed": true
   },
   "source": [
    "### 3. Profanity Checker"
   ]
  },
  {
   "cell_type": "code",
   "execution_count": 49,
   "metadata": {
    "collapsed": false
   },
   "outputs": [
    {
     "name": "stdout",
     "output_type": "stream",
     "text": [
      "Good to Go\n"
     ]
    }
   ],
   "source": [
    "import urllib.request\n",
    "import urllib.parse\n",
    "\n",
    "def read_file(file_location):\n",
    "    file = open(file_location)\n",
    "    content = file.read()\n",
    "    file.close()\n",
    "    return content\n",
    "    \n",
    "def check_profanity(text):\n",
    "    query = urllib.parse.quote(text)\n",
    "    with urllib.request.urlopen(\"http://www.wdylike.appspot.com/?q=\"+query) as url:\n",
    "        s = url.read()\n",
    "    if(b'true' in s):\n",
    "        print(\"Profanity Alert\")\n",
    "    elif(b'false' in s):\n",
    "        print(\"Good to Go\")\n",
    "\n",
    "# Change the path as required.\n",
    "check_profanity(read_file(\"/Users/Abhishek/Desktop/movie_quotes.txt\"))"
   ]
  },
  {
   "cell_type": "code",
   "execution_count": null,
   "metadata": {
    "collapsed": true
   },
   "outputs": [],
   "source": []
  },
  {
   "cell_type": "code",
   "execution_count": null,
   "metadata": {
    "collapsed": true
   },
   "outputs": [],
   "source": []
  }
 ],
 "metadata": {
  "kernelspec": {
   "display_name": "Python 3",
   "language": "python",
   "name": "python3"
  },
  "language_info": {
   "codemirror_mode": {
    "name": "ipython",
    "version": 3
   },
   "file_extension": ".py",
   "mimetype": "text/x-python",
   "name": "python",
   "nbconvert_exporter": "python",
   "pygments_lexer": "ipython3",
   "version": "3.6.0"
  }
 },
 "nbformat": 4,
 "nbformat_minor": 2
}
